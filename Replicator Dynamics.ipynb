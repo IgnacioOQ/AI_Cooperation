{
 "cells": [
  {
   "cell_type": "code",
   "execution_count": 1,
   "metadata": {},
   "outputs": [],
   "source": [
    "# widget packages\n",
    "import ipywidgets as widgets\n",
    "from IPython.display import display, Markdown, clear_output"
   ]
  },
  {
   "cell_type": "code",
   "execution_count": 2,
   "metadata": {},
   "outputs": [
    {
     "name": "stdout",
     "output_type": "stream",
     "text": [
      "3.25\n",
      "3.125\n"
     ]
    }
   ],
   "source": [
    "# shares in the population\n",
    "xA = .75       # probability of interacting with A player\n",
    "xB = (1 - xA)  # probability of interacting with B player\n",
    "\n",
    "# SET PARAMETERS OF THE GAME\n",
    "\n",
    "    # A    B\n",
    "#A (a,a)  (b,c)\n",
    "#B (c,b)  (d,d)\n",
    "\n",
    "# PD\n",
    "#a=3; b=1; c=4; d=2\n",
    "\n",
    "# STAG HUNT\n",
    "a=4; b=1; c=3.5; d=2\n",
    "\n",
    "# Original\n",
    "# payoffs a > c and b < d\n",
    "# payoffs\n",
    "#a = 2; b = 3; c = 1; d = 4\n",
    "\n",
    "# fitness for the player who is playing A\n",
    "fA = xA * a + xB * b\n",
    "# fitness for the player who is playing B\n",
    "fB = xA * c + xB * d\n",
    "\n",
    "print(fA)\n",
    "print(fB)"
   ]
  },
  {
   "cell_type": "code",
   "execution_count": 3,
   "metadata": {},
   "outputs": [
    {
     "name": "stdout",
     "output_type": "stream",
     "text": [
      "3.21875\n"
     ]
    }
   ],
   "source": [
    "# average fitness\n",
    "f = xA * fA + (1 - xA) * fB\n",
    "print(f)"
   ]
  },
  {
   "cell_type": "code",
   "execution_count": 43,
   "metadata": {},
   "outputs": [],
   "source": [
    "# IMPORTANT FUNCTIONS\n",
    "\n",
    "import matplotlib.pyplot as plt\n",
    "%matplotlib inline\n",
    "\n",
    "\n",
    "def run_simulation(a,b,c,d,xA0=0.5,n=200):\n",
    "    # xA = probability of interacting with A player (population proportion)\n",
    "    # xB = probability of interacting with B player (population proportion)\n",
    "    xA = [xA0] # A Population String, Init Humanly definded\n",
    "    xB = [1 - xA[0]]\n",
    "    dt = 0.1\n",
    "    # fitness of A and B\n",
    "    FA = [(xA[0] * a + xB[0] * b) * dt]\n",
    "    FB = [(xA[0] * c + xB[0] * d) * dt]\n",
    "    # average fitness\n",
    "    F = [(xA[0] * (xA[0] * a + xB[0] * b) + xB[0] * (xA[0] * c + xB[0] * d)) * dt]\n",
    "    \n",
    "    for t in range(n):\n",
    "        # fitnesses\n",
    "        fA = xA[t] * a + xB[t] * b\n",
    "        fB = xA[t] * c + xB[t] * d\n",
    "        f = xA[t] * fA + xB[t] * fB\n",
    "        FA.append(fA*dt)\n",
    "        FB.append(fB*dt)\n",
    "        F.append(f*dt)\n",
    "        # differential equations\n",
    "        xA.append(xA[t] + (xA[t] * (fA - f)) * dt)\n",
    "        xB.append(xB[t] + (xB[t] * (fB - f)) * dt)\n",
    "    return xA,xB,FA,FB,F\n",
    "\n",
    "def plot_simulation(xA,xB,FA,FB,F):\n",
    "    plt.plot(xA, 'r', label ='share of strategy A')\n",
    "    plt.plot(xB, 'b', label ='share of strategy B')\n",
    "    plt.plot(FA, 'r--', label ='fitness of strategy A')\n",
    "    plt.plot(FB, 'b--', label ='fitness of strategy B')\n",
    "    plt.plot(F, 'g--', label ='mean population fitness')\n",
    "    plt.ylabel('Population Proportion')\n",
    "    plt.xlabel('Generations')\n",
    "    plt.grid()\n",
    "    plt.ylim(0, 1)\n",
    "    plt.legend(loc='best')\n",
    "    \n",
    "    plt.show()\n",
    "    \n",
    "def calculate_equilibria():\n",
    "    xA, xB = symbols('xA, xB')\n",
    "    dA = xA * ((a*xA + b*xB) - (xA * (a*xA + b*xB) + xB * (c*xA + d*xB)))\n",
    "    dB = xB * ((c*xA + d*xB) - (xA * (a*xA + b*xB) + xB * (c*xA + d*xB)))\n",
    "\n",
    "    # use sympy's way of setting equations to zero\n",
    "    AEqual = Eq(dA, 0)\n",
    "    BEqual = Eq(dB, 0)\n",
    "    # compute fixed points\n",
    "    equilibria = solve([AEqual, BEqual], [xA, xB])\n",
    "    print(equilibria)\n",
    "    \n",
    "    \n",
    "# use sympy to calculate steady states\n",
    "from sympy import *\n",
    "\n",
    "#a = 2; b = 3; c = 1; d = 4\n",
    "#a = 4; b = 3; c = 1; d = 5\n",
    "def calculate_equilibria():\n",
    "    xA, xB = symbols('xA, xB')\n",
    "    dA = xA * ((a*xA + b*xB) - (xA * (a*xA + b*xB) + xB * (c*xA + d*xB)))\n",
    "    dB = xB * ((c*xA + d*xB) - (xA * (a*xA + b*xB) + xB * (c*xA + d*xB)))\n",
    "\n",
    "    # use sympy's way of setting equations to zero\n",
    "    AEqual = Eq(dA, 0)\n",
    "    BEqual = Eq(dB, 0)\n",
    "    # compute fixed points\n",
    "    equilibria = solve([AEqual, BEqual], [xA, xB])\n",
    "    print(equilibria)"
   ]
  },
  {
   "cell_type": "code",
   "execution_count": 44,
   "metadata": {},
   "outputs": [
    {
     "data": {
      "image/png": "[encoded data removed]",
      "text/plain": [
       "<Figure size 432x288 with 1 Axes>"
      ]
     },
     "metadata": {
      "needs_background": "light"
     },
     "output_type": "display_data"
    }
   ],
   "source": [
    "a=4; b=1; c=3.5; d=2; xA0=0.66;n=200\n",
    "xA,xB,FA,FB,F = run_simulation(a,b,c,d,xA0,n)\n",
    "plot_simulation(xA,xB,FA,FB,F)"
   ]
  },
  {
   "cell_type": "code",
   "execution_count": 45,
   "metadata": {},
   "outputs": [
    {
     "name": "stdout",
     "output_type": "stream",
     "text": [
      "[(0.0, 0.0), (0.0, 1.00000000000000), (0.666666666666667, 0.333333333333333), (1.00000000000000, 0.0)]\n"
     ]
    }
   ],
   "source": [
    "calculate_equilibria()"
   ]
  },
  {
   "cell_type": "code",
   "execution_count": 46,
   "metadata": {},
   "outputs": [
    {
     "data": {
      "application/vnd.jupyter.widget-view+json": {
       "model_id": "c77f0527090a483589f4410b7ad34369",
       "version_major": 2,
       "version_minor": 0
      },
      "text/plain": [
       "Text(value='My Text', description='Title')"
      ]
     },
     "metadata": {},
     "output_type": "display_data"
    }
   ],
   "source": [
    "text = widgets.Text(\n",
    "       value='My Text',\n",
    "        description='Title', )\n",
    "\n",
    "display(text)"
   ]
  },
  {
   "cell_type": "code",
   "execution_count": 70,
   "metadata": {},
   "outputs": [
    {
     "data": {
      "application/vnd.jupyter.widget-view+json": {
       "model_id": "27ce95aff32948e1a0dd72154fe8ad43",
       "version_major": 2,
       "version_minor": 0
      },
      "text/plain": [
       "VBox(children=(VBox(children=(FloatSlider(value=0.66, continuous_update=False, description='Initial A:', max=1…"
      ]
     },
     "metadata": {},
     "output_type": "display_data"
    }
   ],
   "source": [
    "# Now Input Values\n",
    "\n",
    "\n",
    "xA0 = widgets.FloatSlider(\n",
    "    value=0.66,\n",
    "    min=0,\n",
    "    max=1,\n",
    "    step=0.01,\n",
    "    description='Initial A:',\n",
    "    disabled=False,\n",
    "    continuous_update=False,\n",
    "    orientation='horizontal',\n",
    "    readout=True,\n",
    "    readout_format='.3f'\n",
    ")\n",
    "\n",
    "\n",
    "\n",
    "n = widgets.IntSlider(\n",
    "    value=200,\n",
    "    min=50,\n",
    "    max=500,\n",
    "    step=10,\n",
    "    description='Steps:',\n",
    "    disabled=False,\n",
    "    continuous_update=False,\n",
    "    orientation='horizontal',\n",
    "    readout=True,\n",
    "    readout_format='d'\n",
    ")\n",
    "\n",
    "\n",
    "cc = widgets.FloatSlider(\n",
    "    value=4,\n",
    "    min=-10,\n",
    "    max=10,\n",
    "    step=0.1,\n",
    "    description='CC:',\n",
    "    disabled=False,\n",
    "    continuous_update=False,\n",
    "    orientation='horizontal',\n",
    "    readout=True,\n",
    "    readout_format='.1f'\n",
    ")\n",
    "\n",
    "\n",
    "cd = widgets.FloatSlider(\n",
    "    value=1,\n",
    "    min=-10,\n",
    "    max=10,\n",
    "    step=0.1,\n",
    "    description='CD:',\n",
    "    disabled=False,\n",
    "    continuous_update=False,\n",
    "    orientation='horizontal',\n",
    "    readout=True,\n",
    "    readout_format='.1f'\n",
    ")\n",
    "\n",
    "\n",
    "dc = widgets.FloatSlider(\n",
    "    value=3.5,\n",
    "    min=-10,\n",
    "    max=10,\n",
    "    step=0.1,\n",
    "    description='DC:',\n",
    "    disabled=False,\n",
    "    continuous_update=False,\n",
    "    orientation='horizontal',\n",
    "    readout=True,\n",
    "    readout_format='.1f'\n",
    ")\n",
    "\n",
    "\n",
    "dd = widgets.FloatSlider(\n",
    "    value=2,\n",
    "    min=-10,\n",
    "    max=10,\n",
    "    step=0.1,\n",
    "    description='DD:',\n",
    "    disabled=False,\n",
    "    continuous_update=False,\n",
    "    orientation='horizontal',\n",
    "    readout=True,\n",
    "    readout_format='.1f'\n",
    ")\n",
    "\n",
    "\n",
    "sim_butt = widgets.Button(description='Plot Population')\n",
    "def on_butt_clicked(_): #This _ does nothing but its required as input\n",
    "    with outt:\n",
    "        clear_output()\n",
    "        xA,xB,FA,FB,F = run_simulation(cc.value,cd.value,dc.value,dd.value,xA0.value,n.value)\n",
    "        plot_simulation(xA,xB,FA,FB,F)\n",
    "\n",
    "sim_butt.on_click(on_butt_clicked)\n",
    "# display\n",
    "#widgets.VBox([butt,outt])\n",
    "\n",
    "equi_butt = widgets.Button(description='Plot ES Equilibria')\n",
    "def on_butt_clicked(_):\n",
    "    with outt:\n",
    "        clear_output()\n",
    "        calculate_equilibria()\n",
    "\n",
    "equi_butt.on_click(on_butt_clicked)\n",
    "\n",
    "clear_butt = widgets.Button(description='Clear Output')\n",
    "#clear_outt = widgets.Output()\n",
    "def on_butt_clicked(_):\n",
    "    with outt:\n",
    "        clear_output()\n",
    "        \n",
    "        \n",
    "text = widgets.Text(\n",
    "       value='My Text',\n",
    "       description='Title', )\n",
    "\n",
    "clear_butt.on_click(on_butt_clicked)\n",
    "\n",
    "outt = widgets.Output()\n",
    "\n",
    "\n",
    "# display\n",
    "buttons = widgets.VBox([xA0,n,cc,cd,dc,dd,sim_butt,equi_butt,clear_butt])\n",
    "widgets.VBox([buttons,outt])"
   ]
  },
  {
   "cell_type": "code",
   "execution_count": 73,
   "metadata": {},
   "outputs": [],
   "source": [
    "from ipywidgets.embed import embed_minimal_html\n",
    "\n",
    "embed_minimal_html('export.html', views=[xA0,n,cc,cd,dc,dd,sim_butt,equi_butt,clear_butt,buttons,outt], title='Widgets export')"
   ]
  },
  {
   "cell_type": "code",
   "execution_count": null,
   "metadata": {},
   "outputs": [],
   "source": []
  }
 ],
 "metadata": {
  "kernelspec": {
   "display_name": "Python 3",
   "language": "python",
   "name": "python3"
  },
  "language_info": {
   "codemirror_mode": {
    "name": "ipython",
    "version": 3
   },
   "file_extension": ".py",
   "mimetype": "text/x-python",
   "name": "python",
   "nbconvert_exporter": "python",
   "pygments_lexer": "ipython3",
   "version": "3.8.5"
  }
 },
 "nbformat": 4,
 "nbformat_minor": 4
}
